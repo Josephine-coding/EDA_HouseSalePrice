{
 "cells": [
  {
   "cell_type": "code",
   "execution_count": 1,
   "metadata": {},
   "outputs": [],
   "source": [
    "import pandas as pd\n",
    "import numpy as np\n",
    "from sklearn.linear_model import Ridge\n",
    "from sklearn.linear_model import Lasso\n",
    "from sklearn.model_selection import GridSearchCV\n",
    "from sklearn.model_selection import train_test_split\n",
    "from sklearn.metrics import mean_squared_error, r2_score"
   ]
  },
  {
   "cell_type": "markdown",
   "metadata": {},
   "source": [
    "## Importation des données"
   ]
  },
  {
   "cell_type": "code",
   "execution_count": 2,
   "metadata": {},
   "outputs": [],
   "source": [
    "database = pd.read_csv(\"../Data/data_house.csv\")"
   ]
  },
  {
   "cell_type": "code",
   "execution_count": 3,
   "metadata": {},
   "outputs": [],
   "source": [
    "# Total number of NaN entries in a column must be less than 30% of total entries\n",
    "database = database.loc[:, database.isna().sum() <= 0.3*database.shape[0]]"
   ]
  },
  {
   "cell_type": "code",
   "execution_count": 4,
   "metadata": {},
   "outputs": [],
   "source": [
    "selected = [\n",
    "    'SalePrice',\n",
    "    'OverallQual',\n",
    "    'GrLivArea',\n",
    "    'GarageCars',  \n",
    "    'GarageArea',  \n",
    "    'TotalBsmtSF',\n",
    "    '1stFlrSF',  \n",
    "    'FullBath',      \n",
    "    'TotRmsAbvGrd',  \n",
    "    'YearBuilt', \n",
    "    'YearRemodAdd'\n",
    "]"
   ]
  },
  {
   "cell_type": "code",
   "execution_count": 6,
   "metadata": {},
   "outputs": [],
   "source": [
    "df = database.loc[:, selected]"
   ]
  },
  {
   "cell_type": "code",
   "execution_count": 7,
   "metadata": {},
   "outputs": [],
   "source": [
    "y = df.SalePrice\n",
    "X = df[['OverallQual',\n",
    "    'GrLivArea',\n",
    "    'GarageCars',  \n",
    "    'GarageArea',  \n",
    "    'TotalBsmtSF',\n",
    "    '1stFlrSF',  \n",
    "    'FullBath',      \n",
    "    'TotRmsAbvGrd',  \n",
    "    'YearBuilt', \n",
    "    'YearRemodAdd']]"
   ]
  },
  {
   "cell_type": "code",
   "execution_count": 39,
   "metadata": {},
   "outputs": [
    {
     "name": "stdout",
     "output_type": "stream",
     "text": [
      "GridSearchCV(cv=5, estimator=Lasso(),\n",
      "             param_grid={'alpha': array([   1,   10,  100,  800,  900, 1000, 1050, 1100, 1125, 1150, 1175,\n",
      "       1200])})\n",
      "0.7611505833134443\n",
      "1150\n",
      "Lasso(alpha=1150)\n",
      "{'alpha': 1150}\n"
     ]
    }
   ],
   "source": [
    "# dataset\n",
    "dataset = df\n",
    "# prepare a range of alpha values to test\n",
    "alphas = np.array([1, 10, 100, 800, 900, 1000, 1050, 1100, 1125, 1150, 1175, 1200])\n",
    "# create and fit a ridge regression model, testing each alpha\n",
    "model = Lasso()\n",
    "grid = GridSearchCV(estimator=model, param_grid=dict(alpha=alphas), cv=5)\n",
    "grid.fit(X, y)\n",
    "print(grid)\n",
    "# summarize the results of the grid search\n",
    "print(grid.best_score_)\n",
    "print(grid.best_estimator_.alpha)\n",
    "print(grid.best_estimator_)\n",
    "print(grid.best_params_)"
   ]
  },
  {
   "cell_type": "code",
   "execution_count": 45,
   "metadata": {},
   "outputs": [],
   "source": [
    "def get_best_alpha(data, target, model, alphas):\n",
    "    ''' Get best alpha for data=X, taget=y, model can be Lasso() or Rdge(), alphas=[val,val]'''\n",
    "    parameters = {'alpha' : alphas}\n",
    "    grid = GridSearchCV(model, parameters, cv=5)\n",
    "    grid.fit(data, target)\n",
    "    print(grid.best_estimator_)"
   ]
  },
  {
   "cell_type": "code",
   "execution_count": 46,
   "metadata": {},
   "outputs": [
    {
     "name": "stdout",
     "output_type": "stream",
     "text": [
      "Lasso(alpha=1150)\n"
     ]
    }
   ],
   "source": [
    "get_best_alpha(X, y, Lasso(), [1, 10, 100, 800, 900, 1000, 1050, 1100, 1125, 1150, 1175, 1200])"
   ]
  },
  {
   "cell_type": "code",
   "execution_count": 37,
   "metadata": {},
   "outputs": [],
   "source": [
    "results = pd.DataFrame(grid.cv_results_)"
   ]
  },
  {
   "cell_type": "code",
   "execution_count": 38,
   "metadata": {},
   "outputs": [
    {
     "data": {
      "text/html": [
       "<div>\n",
       "<style scoped>\n",
       "    .dataframe tbody tr th:only-of-type {\n",
       "        vertical-align: middle;\n",
       "    }\n",
       "\n",
       "    .dataframe tbody tr th {\n",
       "        vertical-align: top;\n",
       "    }\n",
       "\n",
       "    .dataframe thead th {\n",
       "        text-align: right;\n",
       "    }\n",
       "</style>\n",
       "<table border=\"1\" class=\"dataframe\">\n",
       "  <thead>\n",
       "    <tr style=\"text-align: right;\">\n",
       "      <th></th>\n",
       "      <th>mean_fit_time</th>\n",
       "      <th>std_fit_time</th>\n",
       "      <th>mean_score_time</th>\n",
       "      <th>std_score_time</th>\n",
       "      <th>param_alpha</th>\n",
       "      <th>params</th>\n",
       "      <th>split0_test_score</th>\n",
       "      <th>split1_test_score</th>\n",
       "      <th>split2_test_score</th>\n",
       "      <th>split3_test_score</th>\n",
       "      <th>split4_test_score</th>\n",
       "      <th>mean_test_score</th>\n",
       "      <th>std_test_score</th>\n",
       "      <th>rank_test_score</th>\n",
       "    </tr>\n",
       "  </thead>\n",
       "  <tbody>\n",
       "    <tr>\n",
       "      <th>0</th>\n",
       "      <td>0.004341</td>\n",
       "      <td>0.001191</td>\n",
       "      <td>0.002363</td>\n",
       "      <td>0.000509</td>\n",
       "      <td>1</td>\n",
       "      <td>{'alpha': 1}</td>\n",
       "      <td>0.823020</td>\n",
       "      <td>0.789643</td>\n",
       "      <td>0.778560</td>\n",
       "      <td>0.776249</td>\n",
       "      <td>0.630660</td>\n",
       "      <td>0.759627</td>\n",
       "      <td>0.066614</td>\n",
       "      <td>12</td>\n",
       "    </tr>\n",
       "    <tr>\n",
       "      <th>1</th>\n",
       "      <td>0.003698</td>\n",
       "      <td>0.000942</td>\n",
       "      <td>0.002168</td>\n",
       "      <td>0.000389</td>\n",
       "      <td>10</td>\n",
       "      <td>{'alpha': 10}</td>\n",
       "      <td>0.822993</td>\n",
       "      <td>0.789665</td>\n",
       "      <td>0.778652</td>\n",
       "      <td>0.776311</td>\n",
       "      <td>0.630527</td>\n",
       "      <td>0.759630</td>\n",
       "      <td>0.066670</td>\n",
       "      <td>11</td>\n",
       "    </tr>\n",
       "    <tr>\n",
       "      <th>2</th>\n",
       "      <td>0.002793</td>\n",
       "      <td>0.000100</td>\n",
       "      <td>0.002055</td>\n",
       "      <td>0.000491</td>\n",
       "      <td>100</td>\n",
       "      <td>{'alpha': 100}</td>\n",
       "      <td>0.822689</td>\n",
       "      <td>0.789863</td>\n",
       "      <td>0.779538</td>\n",
       "      <td>0.776903</td>\n",
       "      <td>0.629472</td>\n",
       "      <td>0.759693</td>\n",
       "      <td>0.067121</td>\n",
       "      <td>10</td>\n",
       "    </tr>\n",
       "    <tr>\n",
       "      <th>3</th>\n",
       "      <td>0.003083</td>\n",
       "      <td>0.000513</td>\n",
       "      <td>0.002034</td>\n",
       "      <td>0.000235</td>\n",
       "      <td>800</td>\n",
       "      <td>{'alpha': 800}</td>\n",
       "      <td>0.822004</td>\n",
       "      <td>0.790006</td>\n",
       "      <td>0.784268</td>\n",
       "      <td>0.779437</td>\n",
       "      <td>0.628920</td>\n",
       "      <td>0.760927</td>\n",
       "      <td>0.067660</td>\n",
       "      <td>9</td>\n",
       "    </tr>\n",
       "    <tr>\n",
       "      <th>4</th>\n",
       "      <td>0.003198</td>\n",
       "      <td>0.000576</td>\n",
       "      <td>0.002402</td>\n",
       "      <td>0.000633</td>\n",
       "      <td>900</td>\n",
       "      <td>{'alpha': 900}</td>\n",
       "      <td>0.822142</td>\n",
       "      <td>0.789971</td>\n",
       "      <td>0.784663</td>\n",
       "      <td>0.779706</td>\n",
       "      <td>0.628675</td>\n",
       "      <td>0.761031</td>\n",
       "      <td>0.067819</td>\n",
       "      <td>8</td>\n",
       "    </tr>\n",
       "    <tr>\n",
       "      <th>5</th>\n",
       "      <td>0.003350</td>\n",
       "      <td>0.000726</td>\n",
       "      <td>0.002309</td>\n",
       "      <td>0.000586</td>\n",
       "      <td>1000</td>\n",
       "      <td>{'alpha': 1000}</td>\n",
       "      <td>0.822250</td>\n",
       "      <td>0.789905</td>\n",
       "      <td>0.784988</td>\n",
       "      <td>0.780019</td>\n",
       "      <td>0.628403</td>\n",
       "      <td>0.761113</td>\n",
       "      <td>0.067980</td>\n",
       "      <td>7</td>\n",
       "    </tr>\n",
       "    <tr>\n",
       "      <th>6</th>\n",
       "      <td>0.002923</td>\n",
       "      <td>0.000302</td>\n",
       "      <td>0.002083</td>\n",
       "      <td>0.000493</td>\n",
       "      <td>1050</td>\n",
       "      <td>{'alpha': 1050}</td>\n",
       "      <td>0.822293</td>\n",
       "      <td>0.789842</td>\n",
       "      <td>0.785126</td>\n",
       "      <td>0.780160</td>\n",
       "      <td>0.628256</td>\n",
       "      <td>0.761135</td>\n",
       "      <td>0.068057</td>\n",
       "      <td>6</td>\n",
       "    </tr>\n",
       "    <tr>\n",
       "      <th>7</th>\n",
       "      <td>0.002821</td>\n",
       "      <td>0.000170</td>\n",
       "      <td>0.002172</td>\n",
       "      <td>0.000461</td>\n",
       "      <td>1100</td>\n",
       "      <td>{'alpha': 1100}</td>\n",
       "      <td>0.822329</td>\n",
       "      <td>0.789773</td>\n",
       "      <td>0.785241</td>\n",
       "      <td>0.780291</td>\n",
       "      <td>0.628102</td>\n",
       "      <td>0.761147</td>\n",
       "      <td>0.068133</td>\n",
       "      <td>4</td>\n",
       "    </tr>\n",
       "    <tr>\n",
       "      <th>8</th>\n",
       "      <td>0.002919</td>\n",
       "      <td>0.000303</td>\n",
       "      <td>0.001961</td>\n",
       "      <td>0.000099</td>\n",
       "      <td>1125</td>\n",
       "      <td>{'alpha': 1125}</td>\n",
       "      <td>0.822344</td>\n",
       "      <td>0.789736</td>\n",
       "      <td>0.785295</td>\n",
       "      <td>0.780352</td>\n",
       "      <td>0.628023</td>\n",
       "      <td>0.761150</td>\n",
       "      <td>0.068171</td>\n",
       "      <td>2</td>\n",
       "    </tr>\n",
       "    <tr>\n",
       "      <th>9</th>\n",
       "      <td>0.002776</td>\n",
       "      <td>0.000300</td>\n",
       "      <td>0.002124</td>\n",
       "      <td>0.000419</td>\n",
       "      <td>1150</td>\n",
       "      <td>{'alpha': 1150}</td>\n",
       "      <td>0.822357</td>\n",
       "      <td>0.789697</td>\n",
       "      <td>0.785347</td>\n",
       "      <td>0.780411</td>\n",
       "      <td>0.627941</td>\n",
       "      <td>0.761151</td>\n",
       "      <td>0.068209</td>\n",
       "      <td>1</td>\n",
       "    </tr>\n",
       "    <tr>\n",
       "      <th>10</th>\n",
       "      <td>0.002964</td>\n",
       "      <td>0.000268</td>\n",
       "      <td>0.001918</td>\n",
       "      <td>0.000481</td>\n",
       "      <td>1175</td>\n",
       "      <td>{'alpha': 1175}</td>\n",
       "      <td>0.822368</td>\n",
       "      <td>0.789656</td>\n",
       "      <td>0.785397</td>\n",
       "      <td>0.780467</td>\n",
       "      <td>0.627858</td>\n",
       "      <td>0.761149</td>\n",
       "      <td>0.068247</td>\n",
       "      <td>3</td>\n",
       "    </tr>\n",
       "    <tr>\n",
       "      <th>11</th>\n",
       "      <td>0.002786</td>\n",
       "      <td>0.000350</td>\n",
       "      <td>0.001773</td>\n",
       "      <td>0.000095</td>\n",
       "      <td>1200</td>\n",
       "      <td>{'alpha': 1200}</td>\n",
       "      <td>0.822378</td>\n",
       "      <td>0.789614</td>\n",
       "      <td>0.785446</td>\n",
       "      <td>0.780521</td>\n",
       "      <td>0.627723</td>\n",
       "      <td>0.761136</td>\n",
       "      <td>0.068304</td>\n",
       "      <td>5</td>\n",
       "    </tr>\n",
       "  </tbody>\n",
       "</table>\n",
       "</div>"
      ],
      "text/plain": [
       "    mean_fit_time  std_fit_time  mean_score_time  std_score_time param_alpha  \\\n",
       "0        0.004341      0.001191         0.002363        0.000509           1   \n",
       "1        0.003698      0.000942         0.002168        0.000389          10   \n",
       "2        0.002793      0.000100         0.002055        0.000491         100   \n",
       "3        0.003083      0.000513         0.002034        0.000235         800   \n",
       "4        0.003198      0.000576         0.002402        0.000633         900   \n",
       "5        0.003350      0.000726         0.002309        0.000586        1000   \n",
       "6        0.002923      0.000302         0.002083        0.000493        1050   \n",
       "7        0.002821      0.000170         0.002172        0.000461        1100   \n",
       "8        0.002919      0.000303         0.001961        0.000099        1125   \n",
       "9        0.002776      0.000300         0.002124        0.000419        1150   \n",
       "10       0.002964      0.000268         0.001918        0.000481        1175   \n",
       "11       0.002786      0.000350         0.001773        0.000095        1200   \n",
       "\n",
       "             params  split0_test_score  split1_test_score  split2_test_score  \\\n",
       "0      {'alpha': 1}           0.823020           0.789643           0.778560   \n",
       "1     {'alpha': 10}           0.822993           0.789665           0.778652   \n",
       "2    {'alpha': 100}           0.822689           0.789863           0.779538   \n",
       "3    {'alpha': 800}           0.822004           0.790006           0.784268   \n",
       "4    {'alpha': 900}           0.822142           0.789971           0.784663   \n",
       "5   {'alpha': 1000}           0.822250           0.789905           0.784988   \n",
       "6   {'alpha': 1050}           0.822293           0.789842           0.785126   \n",
       "7   {'alpha': 1100}           0.822329           0.789773           0.785241   \n",
       "8   {'alpha': 1125}           0.822344           0.789736           0.785295   \n",
       "9   {'alpha': 1150}           0.822357           0.789697           0.785347   \n",
       "10  {'alpha': 1175}           0.822368           0.789656           0.785397   \n",
       "11  {'alpha': 1200}           0.822378           0.789614           0.785446   \n",
       "\n",
       "    split3_test_score  split4_test_score  mean_test_score  std_test_score  \\\n",
       "0            0.776249           0.630660         0.759627        0.066614   \n",
       "1            0.776311           0.630527         0.759630        0.066670   \n",
       "2            0.776903           0.629472         0.759693        0.067121   \n",
       "3            0.779437           0.628920         0.760927        0.067660   \n",
       "4            0.779706           0.628675         0.761031        0.067819   \n",
       "5            0.780019           0.628403         0.761113        0.067980   \n",
       "6            0.780160           0.628256         0.761135        0.068057   \n",
       "7            0.780291           0.628102         0.761147        0.068133   \n",
       "8            0.780352           0.628023         0.761150        0.068171   \n",
       "9            0.780411           0.627941         0.761151        0.068209   \n",
       "10           0.780467           0.627858         0.761149        0.068247   \n",
       "11           0.780521           0.627723         0.761136        0.068304   \n",
       "\n",
       "    rank_test_score  \n",
       "0                12  \n",
       "1                11  \n",
       "2                10  \n",
       "3                 9  \n",
       "4                 8  \n",
       "5                 7  \n",
       "6                 6  \n",
       "7                 4  \n",
       "8                 2  \n",
       "9                 1  \n",
       "10                3  \n",
       "11                5  "
      ]
     },
     "execution_count": 38,
     "metadata": {},
     "output_type": "execute_result"
    }
   ],
   "source": [
    "results"
   ]
  },
  {
   "cell_type": "code",
   "execution_count": 43,
   "metadata": {},
   "outputs": [
    {
     "name": "stdout",
     "output_type": "stream",
     "text": [
      "GridSearchCV(cv=5, estimator=Ridge(),\n",
      "             param_grid={'alpha': array([   1,   10,   20,   45,   50,   65,   70,   75,   80,   85,   90,\n",
      "        100,  110,  120, 1000])})\n",
      "0.7607170708614998\n",
      "80\n"
     ]
    }
   ],
   "source": [
    "# dataset\n",
    "dataset = df\n",
    "# prepare a range of alpha values to test\n",
    "alphas = np.array([1, 10,20,45, 50, 65, 70, 75, 80, 85, 90, 100, 110, 120, 1000])\n",
    "# create and fit a ridge regression model, testing each alpha\n",
    "model = Ridge()\n",
    "grid = GridSearchCV(estimator=model, param_grid=dict(alpha=alphas), cv=5)\n",
    "grid.fit(X, y)\n",
    "print(grid)\n",
    "# summarize the results of the grid search\n",
    "print(grid.best_score_)\n",
    "print(grid.best_estimator_.alpha)"
   ]
  },
  {
   "cell_type": "code",
   "execution_count": 47,
   "metadata": {},
   "outputs": [
    {
     "name": "stdout",
     "output_type": "stream",
     "text": [
      "Ridge(alpha=80)\n"
     ]
    }
   ],
   "source": [
    "get_best_alpha(X, y, Ridge(), [1, 10,20,45, 50, 65, 70, 75, 80, 85, 90, 100, 110, 120, 1000] )"
   ]
  },
  {
   "cell_type": "code",
   "execution_count": 44,
   "metadata": {},
   "outputs": [],
   "source": [
    "xtrain, xtest, ytrain, ytest = train_test_split(X, y, train_size=0.8)"
   ]
  },
  {
   "cell_type": "code",
   "execution_count": 71,
   "metadata": {},
   "outputs": [],
   "source": [
    "def get_metrics(data, target, model):\n",
    "    ''' \n",
    "    Get R2 and RMSE for a regression\n",
    "    data = X\n",
    "    target = y\n",
    "    model can be Lasso(alpha=int) or Ridge(alpha=int)\n",
    "    '''\n",
    "    xtrain, xtest, ytrain, ytest = train_test_split(data, target, train_size=0.8)\n",
    "    regr = model\n",
    "    regr.fit(xtrain, ytrain)\n",
    "    ytrainpred = regr.predict(xtrain)\n",
    "    ytestpred = regr.predict(xtest)\n",
    "    print(regr)\n",
    "    print (\"Training set : R2 = {} RMSE = {}\\nTesting set : R2 = {} RMSE = {}\" \n",
    "      .format(round(r2_score(ytrain, ytrainpred),3), round(mean_squared_error(ytrain, ytrainpred, squared=False),3), round(r2_score(ytest, ytestpred),3), round(mean_squared_error(ytest, ytestpred, squared=False),3)))"
   ]
  },
  {
   "cell_type": "code",
   "execution_count": 72,
   "metadata": {},
   "outputs": [
    {
     "name": "stdout",
     "output_type": "stream",
     "text": [
      "Ridge(alpha=80)\n",
      "Training set : R2 = 0.764 RMSE = 39419.763\n",
      "Testing set : R2 = 0.815 RMSE = 31027.982\n"
     ]
    }
   ],
   "source": [
    "get_metrics(X, y, Ridge(alpha=80))"
   ]
  },
  {
   "cell_type": "markdown",
   "metadata": {},
   "source": [
    "## RandomizedSearchCV"
   ]
  },
  {
   "cell_type": "code",
   "execution_count": 74,
   "metadata": {},
   "outputs": [],
   "source": [
    "from sklearn.model_selection import RandomizedSearchCV"
   ]
  },
  {
   "cell_type": "code",
   "execution_count": 77,
   "metadata": {},
   "outputs": [],
   "source": [
    "from scipy.stats import uniform as sp_rand"
   ]
  },
  {
   "cell_type": "code",
   "execution_count": 113,
   "metadata": {},
   "outputs": [
    {
     "name": "stdout",
     "output_type": "stream",
     "text": [
      "RandomizedSearchCV(cv=5, estimator=Ridge(), n_iter=100,\n",
      "                   param_distributions={'alpha': <scipy.stats._distn_infrastructure.rv_frozen object at 0x7f9b9376feb0>},\n",
      "                   random_state=0)\n",
      "0.7596634398978886\n",
      "0.9883738380592262\n",
      "Ridge(alpha=0.9883738380592262)\n"
     ]
    }
   ],
   "source": [
    "# dataset\n",
    "dataset = df\n",
    "# prepare a uniform distribution to sample for the alpha parameter\n",
    "param_grid = {'alpha': sp_rand()}\n",
    "# create and fit a regression model, testing random alpha values\n",
    "model = Ridge()\n",
    "rsearch = RandomizedSearchCV(estimator=model, param_distributions=param_grid, n_iter=100, cv=5, random_state=0)\n",
    "rsearch.fit(X, y)\n",
    "print(rsearch)\n",
    "# summarize the results of the random parameter search\n",
    "print(rsearch.best_score_)\n",
    "print(rsearch.best_estimator_.alpha)\n",
    "print(rsearch.best_estimator_)"
   ]
  },
  {
   "cell_type": "code",
   "execution_count": 146,
   "metadata": {},
   "outputs": [],
   "source": [
    "def get_best_alpha_by_randomizedSCV(data, target, regr):\n",
    "    model_params = {'alpha': [i for i in range(2000)]}\n",
    "    search = RandomizedSearchCV(regr, model_params, n_iter=200, cv=5, random_state=0)\n",
    "    search.fit(data, target)\n",
    "    print(search.best_estimator_)"
   ]
  },
  {
   "cell_type": "code",
   "execution_count": 147,
   "metadata": {},
   "outputs": [
    {
     "name": "stdout",
     "output_type": "stream",
     "text": [
      "Ridge(alpha=80)\n"
     ]
    }
   ],
   "source": [
    "get_best_alpha_by_randomizedSCV(X, y, Ridge())"
   ]
  },
  {
   "cell_type": "code",
   "execution_count": 138,
   "metadata": {},
   "outputs": [
    {
     "name": "stdout",
     "output_type": "stream",
     "text": [
      "Lasso(alpha=1148)\n"
     ]
    }
   ],
   "source": [
    "get_best_alpha_by_randomizedSCV(X, y, Lasso())"
   ]
  },
  {
   "cell_type": "code",
   "execution_count": 114,
   "metadata": {},
   "outputs": [
    {
     "name": "stdout",
     "output_type": "stream",
     "text": [
      "Lasso(alpha=1148)\n",
      "Training set : R2 = 0.768 RMSE = 36695.44\n",
      "Testing set : R2 = 0.773 RMSE = 43481.063\n"
     ]
    }
   ],
   "source": [
    "get_metrics(X, y, Lasso(alpha=1148))"
   ]
  },
  {
   "cell_type": "code",
   "execution_count": 115,
   "metadata": {},
   "outputs": [
    {
     "name": "stdout",
     "output_type": "stream",
     "text": [
      "Lasso(alpha=1150)\n",
      "Training set : R2 = 0.763 RMSE = 39066.095\n",
      "Testing set : R2 = 0.81 RMSE = 32963.13\n"
     ]
    }
   ],
   "source": [
    "get_metrics(X, y, Lasso(alpha=1150))"
   ]
  },
  {
   "cell_type": "code",
   "execution_count": null,
   "metadata": {},
   "outputs": [],
   "source": []
  }
 ],
 "metadata": {
  "kernelspec": {
   "display_name": "Python 3",
   "language": "python",
   "name": "python3"
  },
  "language_info": {
   "codemirror_mode": {
    "name": "ipython",
    "version": 3
   },
   "file_extension": ".py",
   "mimetype": "text/x-python",
   "name": "python",
   "nbconvert_exporter": "python",
   "pygments_lexer": "ipython3",
   "version": "3.8.5"
  }
 },
 "nbformat": 4,
 "nbformat_minor": 4
}
